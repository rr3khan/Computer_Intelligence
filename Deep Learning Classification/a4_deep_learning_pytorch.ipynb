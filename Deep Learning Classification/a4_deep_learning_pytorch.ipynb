{
 "cells": [
  {
   "cell_type": "code",
   "execution_count": 36,
   "metadata": {},
   "outputs": [
    {
     "name": "stdout",
     "output_type": "stream",
     "text": [
      "cuda:0\n"
     ]
    }
   ],
   "source": [
    "import torch\n",
    "import torchvision\n",
    "import torchvision.transforms as transforms\n",
    "\n",
    "device = torch.device(\"cuda:0\" if torch.cuda.is_available() else \"cpu\")\n",
    "\n",
    "# GPU Check\n",
    "\n",
    "print(device)"
   ]
  },
  {
   "cell_type": "code",
   "execution_count": 37,
   "metadata": {},
   "outputs": [
    {
     "name": "stdout",
     "output_type": "stream",
     "text": [
      "Files already downloaded and verified\n",
      "Files already downloaded and verified\n",
      "Finished Training\n"
     ]
    }
   ],
   "source": [
    "batch_size = 4\n",
    "\n",
    "\n",
    "def min_max_normalization(tensor, new_min=0, new_max=255):\n",
    "    v_min = tensor.min()\n",
    "    v_max = tensor.max()\n",
    "    normalized_tensor = (tensor - v_min) / (v_max - v_min) * (\n",
    "        new_max - new_min\n",
    "    ) + new_min\n",
    "    return normalized_tensor\n",
    "\n",
    "\n",
    "def unnormalization_min_max(\n",
    "    normalized_tensor, tensor_min, tensor_max, new_min=0, new_max=255\n",
    "):\n",
    "    tensor_range = tensor_max - tensor_min\n",
    "    normalized_range = new_max - new_min\n",
    "    tensor = (\n",
    "        (normalized_tensor - new_min) / normalized_range\n",
    "    ) * tensor_range + tensor_min\n",
    "    return tensor\n",
    "\n",
    "\n",
    "transform = transforms.Compose(\n",
    "    [\n",
    "        transforms.ToTensor(),\n",
    "        transforms.Normalize((0.5, 0.5, 0.5), (0.5, 0.5, 0.5))\n",
    "        #  transforms.Lambda(lambda x: min_max_normalization(x))\n",
    "    ]\n",
    ")\n",
    "\n",
    "testset = torchvision.datasets.CIFAR10(\n",
    "    root=\"./data\", train=True, download=True, transform=transform\n",
    ")\n",
    "\n",
    "test_tensor_min = testset.data.min()\n",
    "test_tensor_max = testset.data.max()\n",
    "\n",
    "testloader = torch.utils.data.DataLoader(\n",
    "    testset, batch_size=batch_size, shuffle=True, num_workers=0\n",
    ")\n",
    "\n",
    "trainset = torchvision.datasets.CIFAR10(\n",
    "    root=\"./data\", train=True, download=True, transform=transform\n",
    ")\n",
    "\n",
    "trainloader = torch.utils.data.DataLoader(\n",
    "    trainset, batch_size=batch_size, shuffle=True, num_workers=0\n",
    ")\n",
    "\n",
    "train_tensor_min = trainset.data.min()\n",
    "train_tensor_max = trainset.data.max()\n",
    "\n",
    "classes = (\n",
    "    \"plane\",\n",
    "    \"car\",\n",
    "    \"bird\",\n",
    "    \"cat\",\n",
    "    \"deer\",\n",
    "    \"dog\",\n",
    "    \"frog\",\n",
    "    \"horse\",\n",
    "    \"ship\",\n",
    "    \"truck\",\n",
    ")"
   ]
  },
  {
   "cell_type": "code",
   "execution_count": 48,
   "metadata": {},
   "outputs": [],
   "source": [
    "def train(num_epochs, optimizer, model, criterion):\n",
    "    for epoch in range(num_epochs):\n",
    "        running_loss = 0.0\n",
    "        for index, data in enumerate(trainloader, 0):\n",
    "            inputs, labels = data\n",
    "\n",
    "            optimizer.zero_grad()\n",
    "\n",
    "            # print(inputs.shape)\n",
    "\n",
    "            # Reshape the inputs tensor\n",
    "            # inputs = inputs.view(inputs.shape[0], -1)\n",
    "\n",
    "            # forward + backward + optimize\n",
    "            outputs = model(inputs)\n",
    "            loss = criterion(outputs, labels)\n",
    "            loss.backward()\n",
    "            optimizer.step()\n",
    "\n",
    "            running_loss += loss.item()\n",
    "            if index % 2000 == 1999:\n",
    "                print(f\"[{epoch + 1}, {index + 1:5d}] loss: {running_loss/2000:.3f}\")\n",
    "                running_loss = 0.0\n",
    "\n",
    "    print(\"Finished Training\")\n",
    "\n",
    "\n",
    "def accuracy_check(model, data_set):\n",
    "    correct = 0\n",
    "    total = 0\n",
    "    # since we're not training, we don't need to calculate the gradients for our outputs\n",
    "    with torch.no_grad():\n",
    "        for data in data_set:\n",
    "            images, labels = data\n",
    "            # calculate outputs by running images through the network\n",
    "            # images = images.view(inputs.shape[0], -1)\n",
    "            outputs = model(images)\n",
    "            # the class with the highest energy is what we choose as prediction\n",
    "            _, predicted = torch.max(outputs.data, 1)\n",
    "            total += labels.size(0)\n",
    "            correct += (predicted == labels).sum().item()\n",
    "\n",
    "    print(\n",
    "        f\"Accuracy of the network on the 10000 test images: {100 * correct // total} %\"\n",
    "    )"
   ]
  },
  {
   "cell_type": "code",
   "execution_count": 39,
   "metadata": {},
   "outputs": [
    {
     "data": {
      "image/png": "[encoded data removed]",
      "text/plain": [
       "<Figure size 640x480 with 1 Axes>"
      ]
     },
     "metadata": {},
     "output_type": "display_data"
    },
    {
     "name": "stdout",
     "output_type": "stream",
     "text": [
      "plane deer  frog  cat  \n"
     ]
    }
   ],
   "source": [
    "import matplotlib.pyplot as plt\n",
    "import numpy as np\n",
    "\n",
    "\n",
    "def img_show(img):\n",
    "    img = img / 2 + 0.5\n",
    "    # img = unnormalization_min_max(img, train_tensor_min, train_tensor_max)\n",
    "    npimg = img.numpy()\n",
    "    plt.imshow(np.transpose(npimg, (1, 2, 0)))\n",
    "    plt.show()\n",
    "\n",
    "\n",
    "# random images\n",
    "dataiter = iter(trainloader)\n",
    "images, labels = next(dataiter)\n",
    "\n",
    "img_show(torchvision.utils.make_grid(images))\n",
    "# print labels\n",
    "print(\" \".join(f\"{classes[labels[j]]:5s}\" for j in range(batch_size)))"
   ]
  },
  {
   "cell_type": "code",
   "execution_count": 41,
   "metadata": {},
   "outputs": [],
   "source": [
    "import torch.nn as nn\n",
    "import torch.nn.functional as F\n",
    "\n",
    "# Build a multi-layer perceptron with the following layers:\n",
    "#  Dense layer with 512 units and a sigmoid activation function\n",
    "#  Dense layer with 512 units and a sigmoid activation function\n",
    "#  Dense layer (output layer) with 10 units (representing 10 classes in the dataset) and a suitable activation function for the classification task\n",
    "\n",
    "\n",
    "class SimpleMLP(nn.Module):\n",
    "    def __init__(self):\n",
    "        super().__init__()\n",
    "        self.fc1 = nn.Linear(32 * 32 * 3, 512)\n",
    "        self.fc2 = nn.Linear(512, 512)\n",
    "        self.fc3 = nn.Linear(512, 10)\n",
    "\n",
    "    def forward(self, x):\n",
    "        x = x.view(-1, 32 * 32 * 3)\n",
    "        x = torch.sigmoid(self.fc1(x))\n",
    "        x = torch.sigmoid(self.fc2(x))\n",
    "        # x = self.fc3(x)\n",
    "        x = F.softmax(self.fc3(x), dim=1)\n",
    "        return x\n",
    "\n",
    "\n",
    "mlp = SimpleMLP()"
   ]
  },
  {
   "cell_type": "code",
   "execution_count": 42,
   "metadata": {},
   "outputs": [],
   "source": [
    "import torch.optim as optim\n",
    "\n",
    "criterion = nn.CrossEntropyLoss()\n",
    "optimizer = optim.Adam(mlp.parameters(), lr=0.001)"
   ]
  },
  {
   "cell_type": "code",
   "execution_count": 43,
   "metadata": {},
   "outputs": [
    {
     "name": "stdout",
     "output_type": "stream",
     "text": [
      "[1,  2000] loss: 2.185\n",
      "[1,  4000] loss: 2.140\n",
      "[1,  6000] loss: 2.128\n",
      "[1,  8000] loss: 2.114\n",
      "[1, 10000] loss: 2.113\n",
      "[1, 12000] loss: 2.103\n",
      "[2,  2000] loss: 2.085\n",
      "[2,  4000] loss: 2.089\n",
      "[2,  6000] loss: 2.077\n",
      "[2,  8000] loss: 2.082\n",
      "[2, 10000] loss: 2.086\n",
      "[2, 12000] loss: 2.082\n",
      "[3,  2000] loss: 2.062\n",
      "[3,  4000] loss: 2.064\n",
      "[3,  6000] loss: 2.070\n",
      "[3,  8000] loss: 2.075\n",
      "[3, 10000] loss: 2.067\n",
      "[3, 12000] loss: 2.063\n",
      "[4,  2000] loss: 2.058\n",
      "[4,  4000] loss: 2.048\n",
      "[4,  6000] loss: 2.059\n",
      "[4,  8000] loss: 2.054\n",
      "[4, 10000] loss: 2.051\n",
      "[4, 12000] loss: 2.059\n",
      "[5,  2000] loss: 2.049\n",
      "[5,  4000] loss: 2.052\n",
      "[5,  6000] loss: 2.051\n",
      "[5,  8000] loss: 2.052\n",
      "[5, 10000] loss: 2.049\n",
      "[5, 12000] loss: 2.048\n",
      "Finished Training\n"
     ]
    }
   ],
   "source": [
    "num_epochs = 5\n",
    "train(num_epochs, optimizer, mlp, criterion)"
   ]
  },
  {
   "cell_type": "code",
   "execution_count": null,
   "metadata": {},
   "outputs": [],
   "source": [
    "PATH = './simple_mlp_cifar_net.pth'\n",
    "torch.save(mlp.state_dict(), PATH)"
   ]
  },
  {
   "cell_type": "code",
   "execution_count": 49,
   "metadata": {},
   "outputs": [
    {
     "name": "stdout",
     "output_type": "stream",
     "text": [
      "Accuracy of the network on the 10000 test images: 41 %\n"
     ]
    }
   ],
   "source": [
    "accuracy_check(mlp, trainloader)"
   ]
  },
  {
   "cell_type": "code",
   "execution_count": 50,
   "metadata": {},
   "outputs": [],
   "source": [
    "# Build a Convolutional neural network with the following architecture:\n",
    "#  2D Convolutional layer with 64 filters (size of 3x3) and ReLU activation function\n",
    "#  2D Convolutional layer with 64 filters (size of 3x3) and ReLU activation function\n",
    "#  Flatten layer (to pass to the Fully Connected layers)\n",
    "#  Fully connected (Dense) layer with 512 units and a sigmoid activation function\n",
    "#  Fully connected layer with 512 units and a sigmoid activation function\n",
    "#  Dense layer (output layer) with 10 units and a suitable activation function for the classification task\n",
    "\n",
    "class CNN1(nn.Module):\n",
    "    def __init__(self):\n",
    "        super().__init__()\n",
    "        self.conv2D1 = nn.Conv2d(3, 64, 3)\n",
    "        self.conv2D2 = nn.Conv2d(64, 64, 3)\n",
    "        self.fc1 = nn.Linear(50176, 512)\n",
    "        self.fc2 = nn.Linear(512, 512)\n",
    "        self.fc3 = nn.Linear(512, 10)\n",
    "\n",
    "    def forward(self, x):\n",
    "        x = F.relu(self.conv2D1(x))\n",
    "        x = F.relu(self.conv2D2(x))\n",
    "        x = torch.flatten(x, 1)\n",
    "        x = torch.sigmoid(self.fc1(x))\n",
    "        x = torch.sigmoid(self.fc2(x))\n",
    "        x = F.softmax(self.fc3(x), dim=1)\n",
    "        return x\n",
    "    \n",
    "cnn1 = CNN1()\n",
    "\n",
    "optimizer = optim.Adam(cnn1.parameters(), lr=0.001)"
   ]
  },
  {
   "cell_type": "code",
   "execution_count": 51,
   "metadata": {},
   "outputs": [
    {
     "name": "stdout",
     "output_type": "stream",
     "text": [
      "[1,  2000] loss: 2.293\n",
      "[1,  4000] loss: 2.263\n",
      "[1,  6000] loss: 2.235\n",
      "[1,  8000] loss: 2.231\n",
      "[1, 10000] loss: 2.238\n",
      "[1, 12000] loss: 2.245\n",
      "[2,  2000] loss: 2.230\n",
      "[2,  4000] loss: 2.237\n",
      "[2,  6000] loss: 2.284\n",
      "[2,  8000] loss: 2.264\n",
      "[2, 10000] loss: 2.257\n",
      "[2, 12000] loss: 2.249\n",
      "[3,  2000] loss: 2.241\n",
      "[3,  4000] loss: 2.248\n",
      "[3,  6000] loss: 2.244\n",
      "[3,  8000] loss: 2.261\n",
      "[3, 10000] loss: 2.244\n",
      "[3, 12000] loss: 2.268\n",
      "[4,  2000] loss: 2.265\n",
      "[4,  4000] loss: 2.259\n",
      "[4,  6000] loss: 2.259\n",
      "[4,  8000] loss: 2.269\n",
      "[4, 10000] loss: 2.277\n",
      "[4, 12000] loss: 2.284\n",
      "[5,  2000] loss: 2.298\n",
      "[5,  4000] loss: 2.302\n",
      "[5,  6000] loss: 2.301\n",
      "[5,  8000] loss: 2.296\n",
      "[5, 10000] loss: 2.296\n",
      "[5, 12000] loss: 2.285\n",
      "Finished Training\n"
     ]
    }
   ],
   "source": [
    "train(num_epochs, optimizer, cnn1, criterion)"
   ]
  },
  {
   "cell_type": "code",
   "execution_count": 52,
   "metadata": {},
   "outputs": [
    {
     "name": "stdout",
     "output_type": "stream",
     "text": [
      "Accuracy of the network on the 10000 test images: 14 %\n"
     ]
    }
   ],
   "source": [
    "accuracy_check(cnn1, trainloader)"
   ]
  },
  {
   "cell_type": "code",
   "execution_count": 53,
   "metadata": {},
   "outputs": [],
   "source": [
    "class Net(nn.Module):\n",
    "    def __init__(self):\n",
    "        super().__init__()\n",
    "        self.conv1 = nn.Conv2d(3, 6, 5)\n",
    "        self.pool = nn.MaxPool2d(2, 2)\n",
    "        self.conv2 = nn.Conv2d(6, 16, 5)\n",
    "        self.fc1 = nn.Linear(16 * 5 * 5, 120)\n",
    "        self.fc2 = nn.Linear(120, 84)\n",
    "        self.fc3 = nn.Linear(84, 10)\n",
    "\n",
    "    def forward(self, x):\n",
    "        x = self.pool(F.relu(self.conv1(x)))\n",
    "        x = self.pool(F.relu(self.conv2(x)))\n",
    "        x = torch.flatten(x, 1) # flatten all dimensions except batch\n",
    "        x = F.relu(self.fc1(x))\n",
    "        x = F.relu(self.fc2(x))\n",
    "        x = self.fc3(x)\n",
    "        return x\n",
    "\n",
    "\n",
    "net = Net()\n",
    "\n",
    "optimizer = optim.SGD(net.parameters(), lr=0.001, momentum=0.9)"
   ]
  },
  {
   "cell_type": "code",
   "execution_count": 54,
   "metadata": {},
   "outputs": [
    {
     "name": "stdout",
     "output_type": "stream",
     "text": [
      "[1,  2000] loss: 2.139\n",
      "[1,  4000] loss: 1.807\n",
      "[1,  6000] loss: 1.655\n",
      "[1,  8000] loss: 1.562\n",
      "[1, 10000] loss: 1.518\n",
      "[1, 12000] loss: 1.461\n",
      "[2,  2000] loss: 1.395\n",
      "[2,  4000] loss: 1.383\n",
      "[2,  6000] loss: 1.347\n",
      "[2,  8000] loss: 1.308\n",
      "[2, 10000] loss: 1.297\n",
      "[2, 12000] loss: 1.290\n",
      "[3,  2000] loss: 1.218\n",
      "[3,  4000] loss: 1.206\n",
      "[3,  6000] loss: 1.209\n",
      "[3,  8000] loss: 1.186\n",
      "[3, 10000] loss: 1.189\n",
      "[3, 12000] loss: 1.177\n",
      "[4,  2000] loss: 1.123\n",
      "[4,  4000] loss: 1.130\n",
      "[4,  6000] loss: 1.100\n",
      "[4,  8000] loss: 1.105\n",
      "[4, 10000] loss: 1.107\n",
      "[4, 12000] loss: 1.102\n",
      "[5,  2000] loss: 1.040\n",
      "[5,  4000] loss: 1.046\n",
      "[5,  6000] loss: 1.044\n",
      "[5,  8000] loss: 1.034\n",
      "[5, 10000] loss: 1.055\n",
      "[5, 12000] loss: 1.046\n",
      "Finished Training\n"
     ]
    }
   ],
   "source": [
    "train(num_epochs, optimizer, net, criterion)"
   ]
  },
  {
   "cell_type": "code",
   "execution_count": 55,
   "metadata": {},
   "outputs": [
    {
     "name": "stdout",
     "output_type": "stream",
     "text": [
      "Accuracy of the network on the 10000 test images: 65 %\n"
     ]
    }
   ],
   "source": [
    "accuracy_check(net, trainloader)"
   ]
  },
  {
   "cell_type": "code",
   "execution_count": 59,
   "metadata": {},
   "outputs": [],
   "source": [
    "# Build a Convolutional Neural network with the following architecture:\n",
    "#  2D Convolutional layer with 64 filters (size of 3x3) and ReLU activation function\n",
    "#  2x2 Maxpooling layer\n",
    "#  2D Convolutional layer with 64 filters (size of 3x3) and ReLU activation function\n",
    "#  2x2 Maxpooling layer\n",
    "#  Flatten layer (to pass to the Fully Connected layers)\n",
    "#  Fully connected (Dense) layer with 512 units and a sigmoid activation function\n",
    "#  Dropout layer with 0.2 dropout rate\n",
    "#  Fully connected layer with 512 units and a sigmoid activation function\n",
    "#  Dropout layer with 0.2 dropout rate\n",
    "#  Dense layer (output layer) with 10 units and a suitable activation function for the classification task\n",
    "\n",
    "\n",
    "class CNN2(nn.Module):\n",
    "    def __init__(self):\n",
    "        super().__init__()\n",
    "        self.conv2D1 = nn.Conv2d(3, 64, 3)\n",
    "        self.pool = nn.MaxPool2d(2, 2)\n",
    "        self.conv2D2 = nn.Conv2d(64, 64, 3)\n",
    "        self.dropout = nn.Dropout2d(0.2)\n",
    "        self.fc1 = nn.Linear(2304, 512)\n",
    "        self.fc2 = nn.Linear(512, 512)\n",
    "        self.fc3 = nn.Linear(512, 10)\n",
    "\n",
    "    def forward(self, x):\n",
    "        x = F.relu(self.conv2D1(x))\n",
    "        x = self.pool(x)\n",
    "        x = F.relu(self.conv2D2(x))\n",
    "        x = self.pool(x)\n",
    "        x = torch.flatten(x, 1)\n",
    "        x = torch.sigmoid(self.fc1(x))\n",
    "        x = self.dropout(x)\n",
    "        x = torch.sigmoid(self.fc2(x))\n",
    "        x = self.dropout(x)\n",
    "        x = self.fc3(x)\n",
    "        return x\n",
    "\n",
    "\n",
    "cnn2 = CNN2()\n",
    "\n",
    "optimizer = optim.SGD(cnn2.parameters(), lr=0.001, momentum=0.9)"
   ]
  },
  {
   "cell_type": "code",
   "execution_count": 60,
   "metadata": {},
   "outputs": [
    {
     "name": "stdout",
     "output_type": "stream",
     "text": [
      "[1,  2000] loss: 2.377\n",
      "[1,  4000] loss: 2.347\n",
      "[1,  6000] loss: 2.275\n",
      "[1,  8000] loss: 2.089\n",
      "[1, 10000] loss: 1.978\n",
      "[1, 12000] loss: 1.899\n",
      "[2,  2000] loss: 1.802\n",
      "[2,  4000] loss: 1.715\n",
      "[2,  6000] loss: 1.654\n",
      "[2,  8000] loss: 1.583\n",
      "[2, 10000] loss: 1.576\n",
      "[2, 12000] loss: 1.534\n",
      "[3,  2000] loss: 1.475\n",
      "[3,  4000] loss: 1.449\n",
      "[3,  6000] loss: 1.428\n",
      "[3,  8000] loss: 1.412\n",
      "[3, 10000] loss: 1.354\n",
      "[3, 12000] loss: 1.358\n",
      "[4,  2000] loss: 1.313\n",
      "[4,  4000] loss: 1.298\n",
      "[4,  6000] loss: 1.260\n",
      "[4,  8000] loss: 1.258\n",
      "[4, 10000] loss: 1.230\n",
      "[4, 12000] loss: 1.211\n",
      "[5,  2000] loss: 1.161\n",
      "[5,  4000] loss: 1.158\n",
      "[5,  6000] loss: 1.142\n",
      "[5,  8000] loss: 1.105\n",
      "[5, 10000] loss: 1.107\n",
      "[5, 12000] loss: 1.086\n",
      "Finished Training\n"
     ]
    }
   ],
   "source": [
    "train(num_epochs, optimizer, cnn2, criterion)"
   ]
  },
  {
   "cell_type": "code",
   "execution_count": 61,
   "metadata": {},
   "outputs": [
    {
     "name": "stdout",
     "output_type": "stream",
     "text": [
      "Accuracy of the network on the 10000 test images: 63 %\n"
     ]
    }
   ],
   "source": [
    "accuracy_check(cnn2, trainloader)"
   ]
  }
 ],
 "metadata": {
  "kernelspec": {
   "display_name": "pytorch_trial",
   "language": "python",
   "name": "python3"
  },
  "language_info": {
   "codemirror_mode": {
    "name": "ipython",
    "version": 3
   },
   "file_extension": ".py",
   "mimetype": "text/x-python",
   "name": "python",
   "nbconvert_exporter": "python",
   "pygments_lexer": "ipython3",
   "version": "3.10.9"
  },
  "orig_nbformat": 4
 },
 "nbformat": 4,
 "nbformat_minor": 2
}
